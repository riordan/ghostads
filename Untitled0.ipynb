{
 "metadata": {
  "name": "Untitled0"
 },
 "nbformat": 3,
 "nbformat_minor": 0,
 "worksheets": [
  {
   "cells": [
    {
     "cell_type": "code",
     "collapsed": false,
     "input": [
      "import simplejson as json\n",
      "import os\n",
      "\n",
      "files = [\"510fed57355fd20002000002.json\", \"510fed73355fd20002000069.json\", \"514a21bd0f7ca625130000c2.json\", \"514a22400f7ca625130001cf.json\", \"514a2fa15c5a8c28940000d4.json\", \"510fed5e355fd2000200001c.json\", \"514a193a0f7ca62370000003.json\", \"514a21c00f7ca625130000c9.json\", \"514a25a10f7ca625870000b8.json\", \"514a31915c5a8c28940001a1.json\", \"510fed61355fd20002000027.json\", \"514a19a60f7ca6238b000018.json\", \"514a21c80f7ca625130000de.json\", \"514a25c30f7ca625870000c5.json\", \"514a3d6e0f7ca62f4b0000fb.json\", \"510fed63355fd20002000032.json\", \"514a21210f7ca6250b000003.json\", \"514a21df0f7ca6251300010f.json\", \"514a260b0f7ca625870000e0.json\", \"514a3daa0f7ca62f4b00011a.json\", \"510fed66355fd2000200003d.json\", \"514a21830f7ca6251300005d.json\", \"514a21e30f7ca62513000114.json\", \"514a26b50f7ca62587000122.json\", \"510fed69355fd20002000048.json\", \"514a218e0f7ca62513000073.json\", \"514a21eb0f7ca62513000127.json\", \"514a2dd75c5a8c2894000010.json\", \"510fed6e355fd2000200005e.json\", \"514a21ae0f7ca625130000aa.json\", \"514a21ef0f7ca6251300012e.json\", \"514a2e005c5a8c2894000022.json\"]\n",
      "adcount = 0\n",
      "ads = []\n",
      "for nowfile in files:\n",
      "    f = open('json/%s' %nowfile, 'r')\n",
      "    \n",
      "    j = json.loads(f.read())\n",
      "    \n",
      "    imgmap = {}\n",
      "    \n",
      "    for i in j['assets']:\n",
      "        #print i\n",
      "        imgmap[i['id']]=i\n",
      "    #print imgmap\n",
      "    \n",
      "    \n",
      "    for i in j['transcription']['annotations']:\n",
      "        if i['name'] == 'Advertisement':\n",
      "            i['image_details'] = imgmap[i['asset_id']]\n",
      "            ads.append(i)\n",
      "            adcount += 1\n",
      "\n",
      "outfile = open('justads.json', 'w')\n",
      "outfile.write(json.dumps(ads, outfile))\n",
      "outfile.close()\n"
     ],
     "language": "python",
     "metadata": {},
     "outputs": [],
     "prompt_number": 27
    }
   ],
   "metadata": {}
  }
 ]
}